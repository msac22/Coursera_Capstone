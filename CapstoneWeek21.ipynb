{
 "cells": [
  {
   "cell_type": "code",
   "execution_count": 11,
   "metadata": {},
   "outputs": [
    {
     "data": {
      "text/plain": [
       "200"
      ]
     },
     "execution_count": 11,
     "metadata": {},
     "output_type": "execute_result"
    }
   ],
   "source": [
    "#import beautifulsoup package so we can use it to read html websites. \n",
    "# We also have to install the package in your python environment ie easy_install beautifulsoup4, easy_install lxml (subpacksge)\n",
    "from bs4 import BeautifulSoup\n",
    "import requests\n",
    "import pandas as pd\n",
    "\n",
    "#read from the website\n",
    "page = requests.get(\"https://en.wikipedia.org/wiki/List_of_postal_codes_of_Canada:_M\")\n",
    "\n",
    "#check successful read with a status code of 200\n",
    "page.status_code"
   ]
  },
  {
   "cell_type": "code",
   "execution_count": 12,
   "metadata": {},
   "outputs": [
    {
     "data": {
      "text/plain": [
       "(103, 3)"
      ]
     },
     "execution_count": 12,
     "metadata": {},
     "output_type": "execute_result"
    }
   ],
   "source": [
    "# Parse the page with html parser\n",
    "\n",
    "soup = BeautifulSoup(page.content, 'html.parser')\n",
    "table = soup.find('table')\n",
    "\n",
    "# Read the table rows by readding all tr tags\n",
    "table_rows = table.find_all('tr')\n",
    "res = []\n",
    "\n",
    "#iterate through the table rows and add it to a list\n",
    "for tr in table_rows:\n",
    "    td = tr.find_all('td')\n",
    "    row = [tr.text.strip() for tr in td if tr.text.strip()]\n",
    "    if row:\n",
    "        \n",
    "        # Check if a cell has a borough but a Not assigned neighborhood, then the neighborhood will be the same as the borough.\n",
    "        if row[2] == 'Not assigned':\n",
    "         row[2]=row[1]  \n",
    "        \n",
    "        #Ignore cells with a borough that is Not assigned.\n",
    "        if row[1] != 'Not assigned': \n",
    "         res.append(row)\n",
    "        \n",
    "#load it to a dataframe  \n",
    "df = pd.DataFrame(res, columns=['PostalCode','Borough','Neightbourhood'])\n",
    "group= df.groupby(['PostalCode','Borough'])\n",
    "\n",
    "#More than one neighborhood can exist in one postal code area. Check for them and combine them seperated by comma\n",
    "df2 = group.apply(lambda x: ','.join(x['Neightbourhood'])).reset_index()\n",
    "df2.columns = ['PostalCode','Borough','Neightbourhood']\n",
    "df2.shape\n"
   ]
  },
  {
   "cell_type": "code",
   "execution_count": null,
   "metadata": {},
   "outputs": [],
   "source": []
  }
 ],
 "metadata": {
  "kernelspec": {
   "display_name": "Python 3",
   "language": "python",
   "name": "python3"
  },
  "language_info": {
   "codemirror_mode": {
    "name": "ipython",
    "version": 3
   },
   "file_extension": ".py",
   "mimetype": "text/x-python",
   "name": "python",
   "nbconvert_exporter": "python",
   "pygments_lexer": "ipython3",
   "version": "3.6.5"
  }
 },
 "nbformat": 4,
 "nbformat_minor": 2
}
